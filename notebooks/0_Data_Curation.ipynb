{
 "cells": [
  {
   "cell_type": "code",
   "execution_count": 1,
   "id": "1ce7e532-675e-4d85-89c0-0a4bd9d5df4c",
   "metadata": {},
   "outputs": [],
   "source": [
    "import os\n",
    "import numpy as np\n",
    "import pandas as pd\n",
    "import sys\n",
    "import time\n",
    "import multiprocessing\n",
    "from functools import partial\n",
    "from tqdm.notebook import tqdm, trange\n",
    "import rdkit \n",
    "from rdkit import Chem\n",
    "import matplotlib.pyplot as plt\n",
    "import seaborn as sns"
   ]
  },
  {
   "cell_type": "code",
   "execution_count": 2,
   "id": "635105d4",
   "metadata": {},
   "outputs": [
    {
     "name": "stdout",
     "output_type": "stream",
     "text": [
      "1.7\n"
     ]
    }
   ],
   "source": [
    "# import Virtuous Library\n",
    "sys.path.append('../scripts/')\n",
    "import Virtuous\n",
    "print (Virtuous.__version__)"
   ]
  },
  {
   "cell_type": "code",
   "execution_count": 3,
   "id": "7df05e2a-877d-4ed9-861b-62a214c4d032",
   "metadata": {},
   "outputs": [],
   "source": [
    "pd.set_option('display.max_columns', None)\n",
    "pd.set_option('display.max_rows', 10)\n",
    "pd.set_option('display.max_colwidth', 20)"
   ]
  },
  {
   "cell_type": "markdown",
   "id": "e139c783",
   "metadata": {},
   "source": [
    "### Setting folders"
   ]
  },
  {
   "cell_type": "code",
   "execution_count": 4,
   "id": "05dcd7aa",
   "metadata": {},
   "outputs": [],
   "source": [
    "data_path = \"../data/\""
   ]
  },
  {
   "cell_type": "markdown",
   "id": "fc6b8933-e1fc-4240-8287-5b5a28b5db3d",
   "metadata": {},
   "source": [
    "### Import DB checked with Rdkit"
   ]
  },
  {
   "cell_type": "code",
   "execution_count": 5,
   "id": "a6549036-2af9-4ef4-a23f-dd36a2b355c0",
   "metadata": {},
   "outputs": [],
   "source": [
    "# set the original file \n",
    "original_file = data_path + \"1-All_DBs_CHECKED.csv\""
   ]
  },
  {
   "cell_type": "code",
   "execution_count": 6,
   "id": "d04165cb-5a43-400c-b0f7-6cf1e821abaa",
   "metadata": {},
   "outputs": [
    {
     "data": {
      "text/html": [
       "<div>\n",
       "<style scoped>\n",
       "    .dataframe tbody tr th:only-of-type {\n",
       "        vertical-align: middle;\n",
       "    }\n",
       "\n",
       "    .dataframe tbody tr th {\n",
       "        vertical-align: top;\n",
       "    }\n",
       "\n",
       "    .dataframe thead th {\n",
       "        text-align: right;\n",
       "    }\n",
       "</style>\n",
       "<table border=\"1\" class=\"dataframe\">\n",
       "  <thead>\n",
       "    <tr style=\"text-align: right;\">\n",
       "      <th></th>\n",
       "      <th>id</th>\n",
       "      <th>Name</th>\n",
       "      <th>SMILE</th>\n",
       "      <th>Taste</th>\n",
       "      <th>Reference</th>\n",
       "      <th>Note</th>\n",
       "    </tr>\n",
       "  </thead>\n",
       "  <tbody>\n",
       "    <tr>\n",
       "      <th>0</th>\n",
       "      <td>0</td>\n",
       "      <td>ACHILLIN</td>\n",
       "      <td>C[C@H]1C(=O)O[C@...</td>\n",
       "      <td>Bitter</td>\n",
       "      <td>Biochemical Targ...</td>\n",
       "      <td>none</td>\n",
       "    </tr>\n",
       "    <tr>\n",
       "      <th>1</th>\n",
       "      <td>1</td>\n",
       "      <td>Acteoside</td>\n",
       "      <td>OC[C@H]1O[C@@H](...</td>\n",
       "      <td>Bitter</td>\n",
       "      <td>Biochemical Targ...</td>\n",
       "      <td>none</td>\n",
       "    </tr>\n",
       "    <tr>\n",
       "      <th>2</th>\n",
       "      <td>2</td>\n",
       "      <td>Aloenin</td>\n",
       "      <td>OC[C@H]1O[C@@H](...</td>\n",
       "      <td>Bitter</td>\n",
       "      <td>Biochemical Targ...</td>\n",
       "      <td>none</td>\n",
       "    </tr>\n",
       "    <tr>\n",
       "      <th>3</th>\n",
       "      <td>3</td>\n",
       "      <td>BIS(ACETIC ACID)...</td>\n",
       "      <td>O=C(c1cc(O)c(c(c...</td>\n",
       "      <td>Bitter</td>\n",
       "      <td>Biochemical Targ...</td>\n",
       "      <td>none</td>\n",
       "    </tr>\n",
       "    <tr>\n",
       "      <th>4</th>\n",
       "      <td>4</td>\n",
       "      <td>BRUCEIN B</td>\n",
       "      <td>COC(=O)[C@@]12OC...</td>\n",
       "      <td>Bitter</td>\n",
       "      <td>Biochemical Targ...</td>\n",
       "      <td>none</td>\n",
       "    </tr>\n",
       "    <tr>\n",
       "      <th>...</th>\n",
       "      <td>...</td>\n",
       "      <td>...</td>\n",
       "      <td>...</td>\n",
       "      <td>...</td>\n",
       "      <td>...</td>\n",
       "      <td>...</td>\n",
       "    </tr>\n",
       "    <tr>\n",
       "      <th>3396</th>\n",
       "      <td>3397</td>\n",
       "      <td>NaN</td>\n",
       "      <td>C=CC(c1cc2cc3C[C...</td>\n",
       "      <td>Non-bitter</td>\n",
       "      <td>Wiener et al. (2...</td>\n",
       "      <td>none</td>\n",
       "    </tr>\n",
       "    <tr>\n",
       "      <th>3397</th>\n",
       "      <td>3398</td>\n",
       "      <td>NaN</td>\n",
       "      <td>COc1cc(/C=C/C(=O...</td>\n",
       "      <td>Non-bitter</td>\n",
       "      <td>Wiener et al. (2...</td>\n",
       "      <td>none</td>\n",
       "    </tr>\n",
       "    <tr>\n",
       "      <th>3398</th>\n",
       "      <td>3399</td>\n",
       "      <td>NaN</td>\n",
       "      <td>O=C(Nc1ccccc1C(=...</td>\n",
       "      <td>Non-bitter</td>\n",
       "      <td>Wiener et al. (2...</td>\n",
       "      <td>none</td>\n",
       "    </tr>\n",
       "    <tr>\n",
       "      <th>3399</th>\n",
       "      <td>3400</td>\n",
       "      <td>NaN</td>\n",
       "      <td>O=C(Nc1ccc(cc1)C...</td>\n",
       "      <td>Non-bitter</td>\n",
       "      <td>Wiener et al. (2...</td>\n",
       "      <td>none</td>\n",
       "    </tr>\n",
       "    <tr>\n",
       "      <th>3400</th>\n",
       "      <td>3401</td>\n",
       "      <td>NaN</td>\n",
       "      <td>O=C(Nc1ccc(cc1)C...</td>\n",
       "      <td>Non-bitter</td>\n",
       "      <td>Wiener et al. (2...</td>\n",
       "      <td>none</td>\n",
       "    </tr>\n",
       "  </tbody>\n",
       "</table>\n",
       "<p>3401 rows × 6 columns</p>\n",
       "</div>"
      ],
      "text/plain": [
       "        id                 Name                SMILE       Taste  \\\n",
       "0        0             ACHILLIN  C[C@H]1C(=O)O[C@...      Bitter   \n",
       "1        1            Acteoside  OC[C@H]1O[C@@H](...      Bitter   \n",
       "2        2              Aloenin  OC[C@H]1O[C@@H](...      Bitter   \n",
       "3        3  BIS(ACETIC ACID)...  O=C(c1cc(O)c(c(c...      Bitter   \n",
       "4        4            BRUCEIN B  COC(=O)[C@@]12OC...      Bitter   \n",
       "...    ...                  ...                  ...         ...   \n",
       "3396  3397                  NaN  C=CC(c1cc2cc3C[C...  Non-bitter   \n",
       "3397  3398                  NaN  COc1cc(/C=C/C(=O...  Non-bitter   \n",
       "3398  3399                  NaN  O=C(Nc1ccccc1C(=...  Non-bitter   \n",
       "3399  3400                  NaN  O=C(Nc1ccc(cc1)C...  Non-bitter   \n",
       "3400  3401                  NaN  O=C(Nc1ccc(cc1)C...  Non-bitter   \n",
       "\n",
       "                Reference  Note  \n",
       "0     Biochemical Targ...  none  \n",
       "1     Biochemical Targ...  none  \n",
       "2     Biochemical Targ...  none  \n",
       "3     Biochemical Targ...  none  \n",
       "4     Biochemical Targ...  none  \n",
       "...                   ...   ...  \n",
       "3396  Wiener et al. (2...  none  \n",
       "3397  Wiener et al. (2...  none  \n",
       "3398  Wiener et al. (2...  none  \n",
       "3399  Wiener et al. (2...  none  \n",
       "3400  Wiener et al. (2...  none  \n",
       "\n",
       "[3401 rows x 6 columns]"
      ]
     },
     "execution_count": 6,
     "metadata": {},
     "output_type": "execute_result"
    }
   ],
   "source": [
    "DB = pd.read_csv (original_file , sep = \";\")\n",
    "DB"
   ]
  },
  {
   "cell_type": "markdown",
   "id": "4e95d1ff-ca31-4522-a8eb-c4655463f164",
   "metadata": {},
   "source": [
    "### Doing some statics on the data"
   ]
  },
  {
   "cell_type": "code",
   "execution_count": 7,
   "id": "ed6c76b5-18fd-4c91-805b-b498e7c557be",
   "metadata": {
    "tags": []
   },
   "outputs": [
    {
     "data": {
      "image/png": "[encoded data removed]",
      "text/plain": [
       "<Figure size 432x288 with 1 Axes>"
      ]
     },
     "metadata": {
      "needs_background": "light"
     },
     "output_type": "display_data"
    },
    {
     "name": "stdout",
     "output_type": "stream",
     "text": [
      "There are 3 compunds longer than 400 chaacters: [2258, 2360, 2545]\n"
     ]
    }
   ],
   "source": [
    "import matplotlib.pyplot as plt\n",
    "lengths = []\n",
    "long_smiles = []\n",
    "max_len=400\n",
    "\n",
    "for i in range(len(DB)): \n",
    "    lengths.append(len(DB.SMILE.iloc[i]))\n",
    "    if len(DB.SMILE.iloc[i]) > max_len: \n",
    "        long_smiles.append(i)\n",
    "    \n",
    "fig = plt.hist(np.sort(np.array(lengths)), bins=100)\n",
    "plt.xlabel(\"SMILE length\")\n",
    "plt.ylabel(\"Frequency\")\n",
    "plt.title(\"Distribution of SMILE length in the DB\")\n",
    "plt.show()\n",
    "\n",
    "print (\"There are %d compunds longer than %d chaacters: %s\" %(len(long_smiles), max_len, long_smiles) )"
   ]
  },
  {
   "cell_type": "markdown",
   "id": "91627853-dde0-4a9a-b693-f39710bc2f0e",
   "metadata": {},
   "source": [
    "## Import DB: remove compounds longer than 400 characters, remove duplicates, standardize and remove issues"
   ]
  },
  {
   "cell_type": "code",
   "execution_count": 8,
   "id": "5cdd3d8b-4015-4c65-a92f-a54a000870d7",
   "metadata": {
    "tags": []
   },
   "outputs": [
    {
     "name": "stdout",
     "output_type": "stream",
     "text": [
      "Checking Molecules... \n"
     ]
    },
    {
     "data": {
      "application/vnd.jupyter.widget-view+json": {
       "model_id": "88908eafcf2a423dab05cff187d6fb89",
       "version_major": 2,
       "version_minor": 0
      },
      "text/plain": [
       "  0%|          | 0/3401 [00:00<?, ?it/s]"
      ]
     },
     "metadata": {},
     "output_type": "display_data"
    },
    {
     "name": "stdout",
     "output_type": "stream",
     "text": [
      "OK: Check results in no errors!\n",
      "Standardizing molecules using the ChEMBL Structure Pipeline ... \n"
     ]
    },
    {
     "data": {
      "application/vnd.jupyter.widget-view+json": {
       "model_id": "fb1bdb001a664f728ae02171ecf5f50d",
       "version_major": 2,
       "version_minor": 0
      },
      "text/plain": [
       "  0%|          | 0/3401 [00:00<?, ?it/s]"
      ]
     },
     "metadata": {},
     "output_type": "display_data"
    },
    {
     "name": "stdout",
     "output_type": "stream",
     "text": [
      "Removing 3 molecules with SMILES longer than 400 characters \n",
      "Removing 5 molecules with issue scores from Checker higher than 5 ...\n",
      "Removing 48 duplicates ... \n",
      "All Done!\n"
     ]
    }
   ],
   "source": [
    "DB_clean = Virtuous.Import_DB(original_file, output=data_path + \"2-All_DBs_CLEAN.csv\", smile_field=\"SMILE\", sep = \";\", max_len=400,  standardize=True, remove_duplicates=True, remove_issues=True)"
   ]
  },
  {
   "cell_type": "code",
   "execution_count": 9,
   "id": "291ecc09",
   "metadata": {},
   "outputs": [
    {
     "data": {
      "text/html": [
       "<div>\n",
       "<style scoped>\n",
       "    .dataframe tbody tr th:only-of-type {\n",
       "        vertical-align: middle;\n",
       "    }\n",
       "\n",
       "    .dataframe tbody tr th {\n",
       "        vertical-align: top;\n",
       "    }\n",
       "\n",
       "    .dataframe thead th {\n",
       "        text-align: right;\n",
       "    }\n",
       "</style>\n",
       "<table border=\"1\" class=\"dataframe\">\n",
       "  <thead>\n",
       "    <tr style=\"text-align: right;\">\n",
       "      <th></th>\n",
       "      <th>id</th>\n",
       "      <th>Name</th>\n",
       "      <th>SMILE</th>\n",
       "      <th>Taste</th>\n",
       "      <th>Reference</th>\n",
       "      <th>Note</th>\n",
       "      <th>SMILES_check</th>\n",
       "      <th>Std_SMILES</th>\n",
       "      <th>Parent_SMILES</th>\n",
       "    </tr>\n",
       "  </thead>\n",
       "  <tbody>\n",
       "    <tr>\n",
       "      <th>0</th>\n",
       "      <td>0</td>\n",
       "      <td>ACHILLIN</td>\n",
       "      <td>C[C@H]1C(=O)O[C@...</td>\n",
       "      <td>Bitter</td>\n",
       "      <td>Biochemical Targ...</td>\n",
       "      <td>none</td>\n",
       "      <td>CC1=CC(=O)C2=C(C...</td>\n",
       "      <td>CC1=CC(=O)C2=C(C...</td>\n",
       "      <td>CC1=CC(=O)C2=C(C...</td>\n",
       "    </tr>\n",
       "    <tr>\n",
       "      <th>1</th>\n",
       "      <td>1</td>\n",
       "      <td>Acteoside</td>\n",
       "      <td>OC[C@H]1O[C@@H](...</td>\n",
       "      <td>Bitter</td>\n",
       "      <td>Biochemical Targ...</td>\n",
       "      <td>none</td>\n",
       "      <td>C[C@@H]1O[C@@H](...</td>\n",
       "      <td>C[C@@H]1O[C@@H](...</td>\n",
       "      <td>C[C@@H]1O[C@@H](...</td>\n",
       "    </tr>\n",
       "    <tr>\n",
       "      <th>2</th>\n",
       "      <td>2</td>\n",
       "      <td>Aloenin</td>\n",
       "      <td>OC[C@H]1O[C@@H](...</td>\n",
       "      <td>Bitter</td>\n",
       "      <td>Biochemical Targ...</td>\n",
       "      <td>none</td>\n",
       "      <td>COc1cc(-c2c(C)cc...</td>\n",
       "      <td>COc1cc(=O)oc(-c2...</td>\n",
       "      <td>COc1cc(=O)oc(-c2...</td>\n",
       "    </tr>\n",
       "    <tr>\n",
       "      <th>3</th>\n",
       "      <td>3</td>\n",
       "      <td>BIS(ACETIC ACID)...</td>\n",
       "      <td>O=C(c1cc(O)c(c(c...</td>\n",
       "      <td>Bitter</td>\n",
       "      <td>Biochemical Targ...</td>\n",
       "      <td>none</td>\n",
       "      <td>CC(=O)O.CC(=O)O....</td>\n",
       "      <td>CC(=O)O.CC(=O)O....</td>\n",
       "      <td>O=C(OCC1OC(OC(=O...</td>\n",
       "    </tr>\n",
       "    <tr>\n",
       "      <th>4</th>\n",
       "      <td>4</td>\n",
       "      <td>BRUCEIN B</td>\n",
       "      <td>COC(=O)[C@@]12OC...</td>\n",
       "      <td>Bitter</td>\n",
       "      <td>Biochemical Targ...</td>\n",
       "      <td>none</td>\n",
       "      <td>COC(=O)[C@@]12OC...</td>\n",
       "      <td>COC(=O)[C@@]12OC...</td>\n",
       "      <td>COC(=O)[C@@]12OC...</td>\n",
       "    </tr>\n",
       "    <tr>\n",
       "      <th>...</th>\n",
       "      <td>...</td>\n",
       "      <td>...</td>\n",
       "      <td>...</td>\n",
       "      <td>...</td>\n",
       "      <td>...</td>\n",
       "      <td>...</td>\n",
       "      <td>...</td>\n",
       "      <td>...</td>\n",
       "      <td>...</td>\n",
       "    </tr>\n",
       "    <tr>\n",
       "      <th>2930</th>\n",
       "      <td>3397</td>\n",
       "      <td>NaN</td>\n",
       "      <td>C=CC(c1cc2cc3C[C...</td>\n",
       "      <td>Non-bitter</td>\n",
       "      <td>Wiener et al. (2...</td>\n",
       "      <td>none</td>\n",
       "      <td>C=CC(C)(C)c1cc2c...</td>\n",
       "      <td>C=CC(C)(C)c1cc2c...</td>\n",
       "      <td>C=CC(C)(C)c1cc2c...</td>\n",
       "    </tr>\n",
       "    <tr>\n",
       "      <th>2931</th>\n",
       "      <td>3398</td>\n",
       "      <td>NaN</td>\n",
       "      <td>COc1cc(/C=C/C(=O...</td>\n",
       "      <td>Non-bitter</td>\n",
       "      <td>Wiener et al. (2...</td>\n",
       "      <td>none</td>\n",
       "      <td>COc1cc(/C=C/C(=O...</td>\n",
       "      <td>COc1cc(/C=C/C(=O...</td>\n",
       "      <td>COc1cc(/C=C/C(=O...</td>\n",
       "    </tr>\n",
       "    <tr>\n",
       "      <th>2932</th>\n",
       "      <td>3399</td>\n",
       "      <td>NaN</td>\n",
       "      <td>O=C(Nc1ccccc1C(=...</td>\n",
       "      <td>Non-bitter</td>\n",
       "      <td>Wiener et al. (2...</td>\n",
       "      <td>none</td>\n",
       "      <td>O=C(/C=C/c1ccccc...</td>\n",
       "      <td>O=C(/C=C/c1ccccc...</td>\n",
       "      <td>O=C(/C=C/c1ccccc...</td>\n",
       "    </tr>\n",
       "    <tr>\n",
       "      <th>2933</th>\n",
       "      <td>3400</td>\n",
       "      <td>NaN</td>\n",
       "      <td>O=C(Nc1ccc(cc1)C...</td>\n",
       "      <td>Non-bitter</td>\n",
       "      <td>Wiener et al. (2...</td>\n",
       "      <td>none</td>\n",
       "      <td>O=C(/C=C/c1cccc(...</td>\n",
       "      <td>O=C(/C=C/c1cccc(...</td>\n",
       "      <td>O=C(/C=C/c1cccc(...</td>\n",
       "    </tr>\n",
       "    <tr>\n",
       "      <th>2934</th>\n",
       "      <td>3401</td>\n",
       "      <td>NaN</td>\n",
       "      <td>O=C(Nc1ccc(cc1)C...</td>\n",
       "      <td>Non-bitter</td>\n",
       "      <td>Wiener et al. (2...</td>\n",
       "      <td>none</td>\n",
       "      <td>O=C(/C=C/c1ccccc...</td>\n",
       "      <td>O=C(/C=C/c1ccccc...</td>\n",
       "      <td>O=C(/C=C/c1ccccc...</td>\n",
       "    </tr>\n",
       "  </tbody>\n",
       "</table>\n",
       "<p>2935 rows × 9 columns</p>\n",
       "</div>"
      ],
      "text/plain": [
       "        id                 Name                SMILE       Taste  \\\n",
       "0        0             ACHILLIN  C[C@H]1C(=O)O[C@...      Bitter   \n",
       "1        1            Acteoside  OC[C@H]1O[C@@H](...      Bitter   \n",
       "2        2              Aloenin  OC[C@H]1O[C@@H](...      Bitter   \n",
       "3        3  BIS(ACETIC ACID)...  O=C(c1cc(O)c(c(c...      Bitter   \n",
       "4        4            BRUCEIN B  COC(=O)[C@@]12OC...      Bitter   \n",
       "...    ...                  ...                  ...         ...   \n",
       "2930  3397                  NaN  C=CC(c1cc2cc3C[C...  Non-bitter   \n",
       "2931  3398                  NaN  COc1cc(/C=C/C(=O...  Non-bitter   \n",
       "2932  3399                  NaN  O=C(Nc1ccccc1C(=...  Non-bitter   \n",
       "2933  3400                  NaN  O=C(Nc1ccc(cc1)C...  Non-bitter   \n",
       "2934  3401                  NaN  O=C(Nc1ccc(cc1)C...  Non-bitter   \n",
       "\n",
       "                Reference  Note         SMILES_check           Std_SMILES  \\\n",
       "0     Biochemical Targ...  none  CC1=CC(=O)C2=C(C...  CC1=CC(=O)C2=C(C...   \n",
       "1     Biochemical Targ...  none  C[C@@H]1O[C@@H](...  C[C@@H]1O[C@@H](...   \n",
       "2     Biochemical Targ...  none  COc1cc(-c2c(C)cc...  COc1cc(=O)oc(-c2...   \n",
       "3     Biochemical Targ...  none  CC(=O)O.CC(=O)O....  CC(=O)O.CC(=O)O....   \n",
       "4     Biochemical Targ...  none  COC(=O)[C@@]12OC...  COC(=O)[C@@]12OC...   \n",
       "...                   ...   ...                  ...                  ...   \n",
       "2930  Wiener et al. (2...  none  C=CC(C)(C)c1cc2c...  C=CC(C)(C)c1cc2c...   \n",
       "2931  Wiener et al. (2...  none  COc1cc(/C=C/C(=O...  COc1cc(/C=C/C(=O...   \n",
       "2932  Wiener et al. (2...  none  O=C(/C=C/c1ccccc...  O=C(/C=C/c1ccccc...   \n",
       "2933  Wiener et al. (2...  none  O=C(/C=C/c1cccc(...  O=C(/C=C/c1cccc(...   \n",
       "2934  Wiener et al. (2...  none  O=C(/C=C/c1ccccc...  O=C(/C=C/c1ccccc...   \n",
       "\n",
       "            Parent_SMILES  \n",
       "0     CC1=CC(=O)C2=C(C...  \n",
       "1     C[C@@H]1O[C@@H](...  \n",
       "2     COc1cc(=O)oc(-c2...  \n",
       "3     O=C(OCC1OC(OC(=O...  \n",
       "4     COC(=O)[C@@]12OC...  \n",
       "...                   ...  \n",
       "2930  C=CC(C)(C)c1cc2c...  \n",
       "2931  COc1cc(/C=C/C(=O...  \n",
       "2932  O=C(/C=C/c1ccccc...  \n",
       "2933  O=C(/C=C/c1cccc(...  \n",
       "2934  O=C(/C=C/c1ccccc...  \n",
       "\n",
       "[2935 rows x 9 columns]"
      ]
     },
     "execution_count": 9,
     "metadata": {},
     "output_type": "execute_result"
    }
   ],
   "source": [
    "DB_clean"
   ]
  },
  {
   "cell_type": "code",
   "execution_count": 10,
   "id": "5afeebab-2122-4c01-901d-06ee701f32ea",
   "metadata": {
    "jupyter": {
     "source_hidden": true
    },
    "tags": []
   },
   "outputs": [
    {
     "data": {
      "image/png": "[encoded data removed]",
      "text/plain": [
       "<Figure size 432x288 with 1 Axes>"
      ]
     },
     "metadata": {
      "needs_background": "light"
     },
     "output_type": "display_data"
    },
    {
     "name": "stdout",
     "output_type": "stream",
     "text": [
      "There are 0 compunds longer than 400 chaacters: []\n"
     ]
    }
   ],
   "source": [
    "import matplotlib.pyplot as plt\n",
    "lengths = []\n",
    "long_smiles = []\n",
    "max_len=400\n",
    "\n",
    "for i in range(len(DB_clean)): \n",
    "    lengths.append(len(DB_clean.SMILE.iloc[i]))\n",
    "    if len(DB_clean.SMILE.iloc[i]) > max_len: \n",
    "        long_smiles.append(i)\n",
    "    \n",
    "fig = plt.hist(np.sort(np.array(lengths)), bins=100)\n",
    "plt.xlabel(\"SMILE length\")\n",
    "plt.ylabel(\"Frequency\")\n",
    "plt.title(\"Distribution of SMILE length in the DB\")\n",
    "plt.show()\n",
    "\n",
    "print (\"There are %d compunds longer than %d chaacters: %s\" %(len(long_smiles), max_len, long_smiles) )"
   ]
  },
  {
   "cell_type": "markdown",
   "id": "93b334b5-d4ac-468c-a225-063d38b95861",
   "metadata": {},
   "source": [
    "## Calculating descriptors (Mordred + Rdkit + pybel) using the Parent smiles"
   ]
  },
  {
   "cell_type": "code",
   "execution_count": 12,
   "id": "df9dc593-9348-4ce8-a10b-13a3469de35d",
   "metadata": {},
   "outputs": [
    {
     "data": {
      "application/vnd.jupyter.widget-view+json": {
       "model_id": "f52be2c7c71e4e8f8118ca8b46cc82ed",
       "version_major": 2,
       "version_minor": 0
      },
      "text/plain": [
       "  0%|          | 0/2935 [00:00<?, ?it/s]"
      ]
     },
     "metadata": {},
     "output_type": "display_data"
    }
   ],
   "source": [
    "DB_desc = Virtuous.CalcDesc_DB (DB_clean, output= data_path + \"Mordred_RDKit_pybel.csv\", smile_field = \"Parent_SMILES\", sep = \";\", Mordred=True, RDKit=True, pybel=True) "
   ]
  }
 ],
 "metadata": {
  "kernelspec": {
   "display_name": "Python 3.8.12 ('VIRTUOUS')",
   "language": "python",
   "name": "python3"
  },
  "language_info": {
   "codemirror_mode": {
    "name": "ipython",
    "version": 3
   },
   "file_extension": ".py",
   "mimetype": "text/x-python",
   "name": "python",
   "nbconvert_exporter": "python",
   "pygments_lexer": "ipython3",
   "version": "3.8.12"
  },
  "vscode": {
   "interpreter": {
    "hash": "11f1672f5cd7722316f5eb6051f616054782c4f3c2f78ea43e9179d43edd0488"
   }
  }
 },
 "nbformat": 4,
 "nbformat_minor": 5
}
