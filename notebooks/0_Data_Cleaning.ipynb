{
 "cells": [
  {
   "cell_type": "code",
   "execution_count": 1,
   "id": "d30ac35b-e982-4925-a431-22f95282e3d8",
   "metadata": {},
   "outputs": [],
   "source": [
    "import pickle\n",
    "import numpy as np\n",
    "import pandas as pd\n",
    "pd.set_option('display.max_rows', 1000)\n",
    "\n",
    "import sys\n",
    "sys.path.append('../scripts/')\n",
    "from utils import *\n",
    "from config import *\n",
    "import lightgbm as lgb\n",
    "\n",
    "import warnings\n",
    "warnings.filterwarnings('ignore')\n",
    "\n",
    "%load_ext autoreload\n",
    "%autoreload 2"
   ]
  },
  {
   "cell_type": "markdown",
   "id": "9524c0b9-fe91-4a1e-b3bc-6efc23c36bd0",
   "metadata": {},
   "source": [
    "## Load raw data"
   ]
  },
  {
   "cell_type": "code",
   "execution_count": 2,
   "id": "e2f5b3ce-c3c3-4e84-9885-aa7806cb9b8c",
   "metadata": {},
   "outputs": [
    {
     "name": "stdout",
     "output_type": "stream",
     "text": [
      "Metadata columns number: 7\n",
      "Features columns number: 2059\n",
      "DataFrame dimensions: (2686, 2060)\n"
     ]
    }
   ],
   "source": [
    "DATA_PATH = '../data/Mordred_RDKit_pybel.csv'\n",
    "\n",
    "df = pd.read_csv(DATA_PATH, sep=';', index_col=0, low_memory=False)\n",
    "\n",
    "metadata = df.columns[2:9].to_list()\n",
    "features = df.columns[10:].to_list()\n",
    "features = sorted(features) # necessary to have reproducible results with LightGBM\n",
    "target = 'Taste'\n",
    "rows = df[df[target].isin(['Sweet', 'Bitter'])].index.to_list()\n",
    "\n",
    "print(f'Metadata columns number: {len(metadata)}')\n",
    "print(f'Features columns number: {len(features)}')\n",
    "print(f'DataFrame dimensions: {df.loc[rows, features+[target]].shape}')"
   ]
  },
  {
   "cell_type": "markdown",
   "id": "ef9e0bcb-b10d-4606-b5df-d9a575f40bf1",
   "metadata": {},
   "source": [
    "## Data cleaning"
   ]
  },
  {
   "cell_type": "markdown",
   "id": "b6d1e74c-74ac-4472-b14b-6edc9ef3f4a5",
   "metadata": {},
   "source": [
    "### Compute baseline AUROC"
   ]
  },
  {
   "cell_type": "code",
   "execution_count": 3,
   "id": "9ffcd667-6c28-4bfa-b045-b56d9c207edf",
   "metadata": {},
   "outputs": [
    {
     "name": "stdout",
     "output_type": "stream",
     "text": [
      "Training until validation scores don't improve for 20 rounds\n",
      "Fold 1 AUC: 0.95235\n",
      "Fold 2 AUC: 0.94892\n",
      "Fold 3 AUC: 0.94635\n",
      "Fold 4 AUC: 0.93690\n",
      "Fold 5 AUC: 0.96570\n",
      "Folds AUC: 0.95004+-0.00936\n",
      "Total AUC: 0.95066\n"
     ]
    }
   ],
   "source": [
    "train = df.loc[rows,features+[target]].copy()\n",
    "train.reset_index(drop=True, inplace=True)\n",
    "train[target].replace({'Bitter': 0, 'Sweet': 1}, inplace=True)\n",
    "custom_cv = create_folds(train=train, features=features, target=target, num_folds=NUM_FOLDS, shuffle=True, seed=SEED)\n",
    "evaluate(params=PARAMS, train=train, features=features, target=target, folds=custom_cv)"
   ]
  },
  {
   "cell_type": "markdown",
   "id": "f1fd8c08-e41a-420c-a0ff-2a21ca478d88",
   "metadata": {},
   "source": [
    "### Removing duplicated columns from feature extraction"
   ]
  },
  {
   "cell_type": "code",
   "execution_count": 4,
   "id": "2de1e34c-0d67-455d-94bd-e5a3b1dfefb6",
   "metadata": {},
   "outputs": [],
   "source": [
    "dup_cols2 = [c for c in features if '.1' in c]\n",
    "dup_cols1 = [c[:-2] for c in dup_cols2]\n",
    "\n",
    "for c1,c2 in zip(dup_cols1, dup_cols2):\n",
    "    if df[c1].equals(df[c2]):\n",
    "        features.remove(c2)"
   ]
  },
  {
   "cell_type": "code",
   "execution_count": 5,
   "id": "9eb995ab-f47b-4133-bfd6-e43dc2ec3b49",
   "metadata": {},
   "outputs": [
    {
     "name": "stdout",
     "output_type": "stream",
     "text": [
      "Metadata columns number: 7\n",
      "Features columns number: 2004\n",
      "DataFrame dimensions: (2686, 2005)\n"
     ]
    }
   ],
   "source": [
    "print(f'Metadata columns number: {len(metadata)}')\n",
    "print(f'Features columns number: {len(features)}')\n",
    "print(f'DataFrame dimensions: {df.loc[rows, features+[target]].shape}')"
   ]
  },
  {
   "cell_type": "markdown",
   "id": "09500889-d92a-4a4f-8b31-df31b26518c6",
   "metadata": {},
   "source": [
    "The result shouldn't change having only removed redundant columns."
   ]
  },
  {
   "cell_type": "code",
   "execution_count": 6,
   "id": "23450042-7466-42d8-9905-38da153e553c",
   "metadata": {},
   "outputs": [
    {
     "name": "stdout",
     "output_type": "stream",
     "text": [
      "Training until validation scores don't improve for 20 rounds\n",
      "Early stopping, best iteration is:\n",
      "[60]\tcv_agg's train auc: 0.999781 + 2.89423e-05\tcv_agg's valid auc: 0.950044 + 0.00935955\n",
      "Fold 1 AUC: 0.95235\n",
      "Fold 2 AUC: 0.94892\n",
      "Fold 3 AUC: 0.94635\n",
      "Fold 4 AUC: 0.93690\n",
      "Fold 5 AUC: 0.96570\n",
      "Folds AUC: 0.95004+-0.00936\n",
      "Total AUC: 0.95066\n"
     ]
    }
   ],
   "source": [
    "train = df.loc[rows,features+[target]].copy()\n",
    "train.reset_index(drop=True, inplace=True)\n",
    "train[target].replace({'Bitter': 0, 'Sweet': 1}, inplace=True)\n",
    "custom_cv = create_folds(train=train, features=features, target=target, num_folds=NUM_FOLDS, shuffle=True, seed=SEED)\n",
    "evaluate(params=PARAMS, train=train, features=features, target=target, folds=custom_cv)"
   ]
  },
  {
   "cell_type": "markdown",
   "id": "6cf12b25-4b3f-4353-bdb5-d1a51b5a798a",
   "metadata": {},
   "source": [
    "### Removing duplicated rows with same target"
   ]
  },
  {
   "cell_type": "code",
   "execution_count": 7,
   "id": "469aa794-f3e6-4c19-ac90-3fec0a3ca65a",
   "metadata": {},
   "outputs": [
    {
     "name": "stdout",
     "output_type": "stream",
     "text": [
      "Number of duplicated rows with same target: 647\n",
      "\n"
     ]
    }
   ],
   "source": [
    "df_tmp1 = df[features+[target]].copy()\n",
    "df_tmp2 = df[metadata].copy()\n",
    "\n",
    "df_tmp1 = df_tmp1[df_tmp1.duplicated(keep=False)].sort_values(features).copy()\n",
    "print(f'Number of duplicated rows with same target: {df_tmp1.shape[0]}\\n')"
   ]
  },
  {
   "cell_type": "code",
   "execution_count": 8,
   "id": "cb9a55cb-cdea-4de4-a6b8-f897412a439b",
   "metadata": {},
   "outputs": [
    {
     "data": {
      "text/html": [
       "<div>\n",
       "<style scoped>\n",
       "    .dataframe tbody tr th:only-of-type {\n",
       "        vertical-align: middle;\n",
       "    }\n",
       "\n",
       "    .dataframe tbody tr th {\n",
       "        vertical-align: top;\n",
       "    }\n",
       "\n",
       "    .dataframe thead th {\n",
       "        text-align: right;\n",
       "    }\n",
       "</style>\n",
       "<table border=\"1\" class=\"dataframe\">\n",
       "  <thead>\n",
       "    <tr style=\"text-align: right;\">\n",
       "      <th></th>\n",
       "      <th>AATS0Z</th>\n",
       "      <th>AATS0are</th>\n",
       "      <th>AATS0d</th>\n",
       "      <th>AATS0dv</th>\n",
       "      <th>AATS0i</th>\n",
       "      <th>AATS0m</th>\n",
       "      <th>AATS0p</th>\n",
       "      <th>AATS0pe</th>\n",
       "      <th>AATS0s</th>\n",
       "      <th>AATS0se</th>\n",
       "      <th>...</th>\n",
       "      <th>qed</th>\n",
       "      <th>rotors</th>\n",
       "      <th>s</th>\n",
       "      <th>sbonds</th>\n",
       "      <th>smarts</th>\n",
       "      <th>tbonds</th>\n",
       "      <th>title</th>\n",
       "      <th>Taste</th>\n",
       "      <th>Name</th>\n",
       "      <th>Reference</th>\n",
       "    </tr>\n",
       "  </thead>\n",
       "  <tbody>\n",
       "    <tr>\n",
       "      <th>2733</th>\n",
       "      <td>14.720000</td>\n",
       "      <td>5.587600</td>\n",
       "      <td>1.840000</td>\n",
       "      <td>2.560000</td>\n",
       "      <td>166.339543</td>\n",
       "      <td>57.053520</td>\n",
       "      <td>1.202728</td>\n",
       "      <td>5.651744</td>\n",
       "      <td>3.010000</td>\n",
       "      <td>7.246851</td>\n",
       "      <td>...</td>\n",
       "      <td>0.443884</td>\n",
       "      <td>5</td>\n",
       "      <td>NaN</td>\n",
       "      <td>7</td>\n",
       "      <td>NaN</td>\n",
       "      <td>0</td>\n",
       "      <td>NaN</td>\n",
       "      <td>Sweet</td>\n",
       "      <td>Oct-2-en-1-ol</td>\n",
       "      <td>The Good Scents Company Database</td>\n",
       "    </tr>\n",
       "    <tr>\n",
       "      <th>2744</th>\n",
       "      <td>14.720000</td>\n",
       "      <td>5.587600</td>\n",
       "      <td>1.840000</td>\n",
       "      <td>2.560000</td>\n",
       "      <td>166.339543</td>\n",
       "      <td>57.053520</td>\n",
       "      <td>1.202728</td>\n",
       "      <td>5.651744</td>\n",
       "      <td>3.010000</td>\n",
       "      <td>7.246851</td>\n",
       "      <td>...</td>\n",
       "      <td>0.443884</td>\n",
       "      <td>5</td>\n",
       "      <td>NaN</td>\n",
       "      <td>7</td>\n",
       "      <td>NaN</td>\n",
       "      <td>0</td>\n",
       "      <td>NaN</td>\n",
       "      <td>Sweet</td>\n",
       "      <td>trans-2-Octen-1-Ol</td>\n",
       "      <td>The Good Scents Company Database</td>\n",
       "    </tr>\n",
       "    <tr>\n",
       "      <th>1509</th>\n",
       "      <td>15.368421</td>\n",
       "      <td>5.675263</td>\n",
       "      <td>1.789474</td>\n",
       "      <td>2.947368</td>\n",
       "      <td>166.591013</td>\n",
       "      <td>59.670816</td>\n",
       "      <td>1.195366</td>\n",
       "      <td>5.733084</td>\n",
       "      <td>3.513158</td>\n",
       "      <td>7.327178</td>\n",
       "      <td>...</td>\n",
       "      <td>0.530402</td>\n",
       "      <td>3</td>\n",
       "      <td>NaN</td>\n",
       "      <td>5</td>\n",
       "      <td>NaN</td>\n",
       "      <td>0</td>\n",
       "      <td>NaN</td>\n",
       "      <td>Sweet</td>\n",
       "      <td>trans-2-Hexen-1-Ol</td>\n",
       "      <td>Fenaroli Handbook of Flavor Ingredient</td>\n",
       "    </tr>\n",
       "    <tr>\n",
       "      <th>2632</th>\n",
       "      <td>15.368421</td>\n",
       "      <td>5.675263</td>\n",
       "      <td>1.789474</td>\n",
       "      <td>2.947368</td>\n",
       "      <td>166.591013</td>\n",
       "      <td>59.670816</td>\n",
       "      <td>1.195366</td>\n",
       "      <td>5.733084</td>\n",
       "      <td>3.513158</td>\n",
       "      <td>7.327178</td>\n",
       "      <td>...</td>\n",
       "      <td>0.530402</td>\n",
       "      <td>3</td>\n",
       "      <td>NaN</td>\n",
       "      <td>5</td>\n",
       "      <td>NaN</td>\n",
       "      <td>0</td>\n",
       "      <td>NaN</td>\n",
       "      <td>Sweet</td>\n",
       "      <td>2-Hexen-1-ol, (2Z)-</td>\n",
       "      <td>The Good Scents Company Database</td>\n",
       "    </tr>\n",
       "    <tr>\n",
       "      <th>466</th>\n",
       "      <td>15.441860</td>\n",
       "      <td>5.545112</td>\n",
       "      <td>2.883721</td>\n",
       "      <td>3.023256</td>\n",
       "      <td>165.866382</td>\n",
       "      <td>60.064455</td>\n",
       "      <td>1.297987</td>\n",
       "      <td>5.624667</td>\n",
       "      <td>1.531654</td>\n",
       "      <td>7.167234</td>\n",
       "      <td>...</td>\n",
       "      <td>0.634630</td>\n",
       "      <td>0</td>\n",
       "      <td>NaN</td>\n",
       "      <td>20</td>\n",
       "      <td>NaN</td>\n",
       "      <td>0</td>\n",
       "      <td>NaN</td>\n",
       "      <td>Bitter</td>\n",
       "      <td>72325</td>\n",
       "      <td>BitterDB</td>\n",
       "    </tr>\n",
       "    <tr>\n",
       "      <th>662</th>\n",
       "      <td>15.441860</td>\n",
       "      <td>5.545112</td>\n",
       "      <td>2.883721</td>\n",
       "      <td>3.023256</td>\n",
       "      <td>165.866382</td>\n",
       "      <td>60.064455</td>\n",
       "      <td>1.297987</td>\n",
       "      <td>5.624667</td>\n",
       "      <td>1.531654</td>\n",
       "      <td>7.167234</td>\n",
       "      <td>...</td>\n",
       "      <td>0.634630</td>\n",
       "      <td>0</td>\n",
       "      <td>NaN</td>\n",
       "      <td>20</td>\n",
       "      <td>NaN</td>\n",
       "      <td>0</td>\n",
       "      <td>NaN</td>\n",
       "      <td>Bitter</td>\n",
       "      <td>644020</td>\n",
       "      <td>BitterDB</td>\n",
       "    </tr>\n",
       "  </tbody>\n",
       "</table>\n",
       "<p>6 rows × 2007 columns</p>\n",
       "</div>"
      ],
      "text/plain": [
       "         AATS0Z  AATS0are    AATS0d   AATS0dv      AATS0i     AATS0m  \\\n",
       "2733  14.720000  5.587600  1.840000  2.560000  166.339543  57.053520   \n",
       "2744  14.720000  5.587600  1.840000  2.560000  166.339543  57.053520   \n",
       "1509  15.368421  5.675263  1.789474  2.947368  166.591013  59.670816   \n",
       "2632  15.368421  5.675263  1.789474  2.947368  166.591013  59.670816   \n",
       "466   15.441860  5.545112  2.883721  3.023256  165.866382  60.064455   \n",
       "662   15.441860  5.545112  2.883721  3.023256  165.866382  60.064455   \n",
       "\n",
       "        AATS0p   AATS0pe    AATS0s   AATS0se  ...       qed  rotors   s  \\\n",
       "2733  1.202728  5.651744  3.010000  7.246851  ...  0.443884       5 NaN   \n",
       "2744  1.202728  5.651744  3.010000  7.246851  ...  0.443884       5 NaN   \n",
       "1509  1.195366  5.733084  3.513158  7.327178  ...  0.530402       3 NaN   \n",
       "2632  1.195366  5.733084  3.513158  7.327178  ...  0.530402       3 NaN   \n",
       "466   1.297987  5.624667  1.531654  7.167234  ...  0.634630       0 NaN   \n",
       "662   1.297987  5.624667  1.531654  7.167234  ...  0.634630       0 NaN   \n",
       "\n",
       "      sbonds  smarts  tbonds  title   Taste                 Name  \\\n",
       "2733       7     NaN       0    NaN   Sweet        Oct-2-en-1-ol   \n",
       "2744       7     NaN       0    NaN   Sweet   trans-2-Octen-1-Ol   \n",
       "1509       5     NaN       0    NaN   Sweet   trans-2-Hexen-1-Ol   \n",
       "2632       5     NaN       0    NaN   Sweet  2-Hexen-1-ol, (2Z)-   \n",
       "466       20     NaN       0    NaN  Bitter                72325   \n",
       "662       20     NaN       0    NaN  Bitter               644020   \n",
       "\n",
       "                                   Reference  \n",
       "2733        The Good Scents Company Database  \n",
       "2744        The Good Scents Company Database  \n",
       "1509  Fenaroli Handbook of Flavor Ingredient  \n",
       "2632        The Good Scents Company Database  \n",
       "466                                 BitterDB  \n",
       "662                                 BitterDB  \n",
       "\n",
       "[6 rows x 2007 columns]"
      ]
     },
     "execution_count": 8,
     "metadata": {},
     "output_type": "execute_result"
    }
   ],
   "source": [
    "df_tmp = pd.merge(df_tmp1, df_tmp2[['Name','Reference']], left_index=True, right_index=True)\n",
    "df_tmp.head(6)"
   ]
  },
  {
   "cell_type": "code",
   "execution_count": 9,
   "id": "d0478980-1b0d-41d8-ae28-9d1ba7b991a9",
   "metadata": {},
   "outputs": [],
   "source": [
    "to_drop = df_tmp1[df_tmp1.duplicated(keep='first')].index\n",
    "df.drop(index=to_drop, inplace=True)\n",
    "rows = list(set(rows) - set(to_drop))"
   ]
  },
  {
   "cell_type": "code",
   "execution_count": 10,
   "id": "88fce1fb-b3be-4617-8b82-b4e69ef698e5",
   "metadata": {},
   "outputs": [
    {
     "name": "stdout",
     "output_type": "stream",
     "text": [
      "Metadata columns number: 7\n",
      "Features columns number: 2004\n",
      "DataFrame dimensions: (2265, 2005)\n"
     ]
    }
   ],
   "source": [
    "print(f'Metadata columns number: {len(metadata)}')\n",
    "print(f'Features columns number: {len(features)}')\n",
    "print(f'DataFrame dimensions: {df.loc[rows, features+[target]].shape}')"
   ]
  },
  {
   "cell_type": "markdown",
   "id": "e411a809-6d4e-42e0-894d-ce661abdfaae",
   "metadata": {},
   "source": [
    "I expect a performance degradation having removed rows with the same features and the same target as if one ended up in the train fold and the other in the validation fold, the model would easily predict the latter correctly."
   ]
  },
  {
   "cell_type": "code",
   "execution_count": 11,
   "id": "a3776d10-8777-4796-9706-82c1f8563b51",
   "metadata": {},
   "outputs": [
    {
     "name": "stdout",
     "output_type": "stream",
     "text": [
      "Training until validation scores don't improve for 20 rounds\n",
      "Early stopping, best iteration is:\n",
      "[66]\tcv_agg's train auc: 0.999795 + 3.92946e-05\tcv_agg's valid auc: 0.928939 + 0.00613945\n",
      "Fold 1 AUC: 0.93118\n",
      "Fold 2 AUC: 0.93935\n",
      "Fold 3 AUC: 0.92275\n",
      "Fold 4 AUC: 0.92852\n",
      "Fold 5 AUC: 0.92289\n",
      "Folds AUC: 0.92894+-0.00614\n",
      "Total AUC: 0.92851\n"
     ]
    }
   ],
   "source": [
    "train = df.loc[rows,features+[target]].copy()\n",
    "train.reset_index(drop=True, inplace=True)\n",
    "train[target].replace({'Bitter': 0, 'Sweet': 1}, inplace=True)\n",
    "custom_cv = create_folds(train=train, features=features, target=target, num_folds=NUM_FOLDS, shuffle=True, seed=SEED)\n",
    "evaluate(params=PARAMS, train=train, features=features, target=target, folds=custom_cv)"
   ]
  },
  {
   "cell_type": "markdown",
   "id": "6cad53d5-f3e5-44d0-9c1a-666cefa5ff7a",
   "metadata": {},
   "source": [
    "### Removing duplicated rows with same target"
   ]
  },
  {
   "cell_type": "code",
   "execution_count": 12,
   "id": "00579e8b-da38-4898-8f8c-87af5ab726fb",
   "metadata": {},
   "outputs": [],
   "source": [
    "df_tmp1 = df[features].copy()\n",
    "df_tmp2 = df[metadata+[target]].copy()"
   ]
  },
  {
   "cell_type": "code",
   "execution_count": 13,
   "id": "b74c3c10-cbf6-43e2-8db6-4d9963184f63",
   "metadata": {},
   "outputs": [
    {
     "name": "stdout",
     "output_type": "stream",
     "text": [
      "Number of duplicated rows with different target: 95\n",
      "\n"
     ]
    }
   ],
   "source": [
    "df_tmp1 = df_tmp1[df_tmp1.duplicated(keep=False)].sort_values(features).copy()\n",
    "print(f'Number of duplicated rows with different target: {df_tmp1.shape[0]}\\n')"
   ]
  },
  {
   "cell_type": "code",
   "execution_count": 14,
   "id": "f58e184a-256e-4a75-9bd8-46e6a76eccf8",
   "metadata": {},
   "outputs": [
    {
     "data": {
      "text/html": [
       "<div>\n",
       "<style scoped>\n",
       "    .dataframe tbody tr th:only-of-type {\n",
       "        vertical-align: middle;\n",
       "    }\n",
       "\n",
       "    .dataframe tbody tr th {\n",
       "        vertical-align: top;\n",
       "    }\n",
       "\n",
       "    .dataframe thead th {\n",
       "        text-align: right;\n",
       "    }\n",
       "</style>\n",
       "<table border=\"1\" class=\"dataframe\">\n",
       "  <thead>\n",
       "    <tr style=\"text-align: right;\">\n",
       "      <th></th>\n",
       "      <th>AATS0Z</th>\n",
       "      <th>AATS0are</th>\n",
       "      <th>AATS0d</th>\n",
       "      <th>AATS0dv</th>\n",
       "      <th>AATS0i</th>\n",
       "      <th>AATS0m</th>\n",
       "      <th>AATS0p</th>\n",
       "      <th>AATS0pe</th>\n",
       "      <th>AATS0s</th>\n",
       "      <th>AATS0se</th>\n",
       "      <th>...</th>\n",
       "      <th>qed</th>\n",
       "      <th>rotors</th>\n",
       "      <th>s</th>\n",
       "      <th>sbonds</th>\n",
       "      <th>smarts</th>\n",
       "      <th>tbonds</th>\n",
       "      <th>title</th>\n",
       "      <th>Name</th>\n",
       "      <th>Reference</th>\n",
       "      <th>Taste</th>\n",
       "    </tr>\n",
       "  </thead>\n",
       "  <tbody>\n",
       "    <tr>\n",
       "      <th>661</th>\n",
       "      <td>15.241379</td>\n",
       "      <td>5.581724</td>\n",
       "      <td>2.068966</td>\n",
       "      <td>3.103448</td>\n",
       "      <td>164.893537</td>\n",
       "      <td>59.203392</td>\n",
       "      <td>1.259836</td>\n",
       "      <td>5.654434</td>\n",
       "      <td>2.976054</td>\n",
       "      <td>7.230663</td>\n",
       "      <td>...</td>\n",
       "      <td>0.617131</td>\n",
       "      <td>4</td>\n",
       "      <td>NaN</td>\n",
       "      <td>8</td>\n",
       "      <td>NaN</td>\n",
       "      <td>0</td>\n",
       "      <td>NaN</td>\n",
       "      <td>643820</td>\n",
       "      <td>BitterDB</td>\n",
       "      <td>Bitter</td>\n",
       "    </tr>\n",
       "    <tr>\n",
       "      <th>1372</th>\n",
       "      <td>15.241379</td>\n",
       "      <td>5.581724</td>\n",
       "      <td>2.068966</td>\n",
       "      <td>3.103448</td>\n",
       "      <td>164.893537</td>\n",
       "      <td>59.203392</td>\n",
       "      <td>1.259836</td>\n",
       "      <td>5.654434</td>\n",
       "      <td>2.976054</td>\n",
       "      <td>7.230663</td>\n",
       "      <td>...</td>\n",
       "      <td>0.617131</td>\n",
       "      <td>4</td>\n",
       "      <td>NaN</td>\n",
       "      <td>8</td>\n",
       "      <td>NaN</td>\n",
       "      <td>0</td>\n",
       "      <td>NaN</td>\n",
       "      <td>GERANIOL</td>\n",
       "      <td>Fenaroli Handbook of Flavor Ingredient</td>\n",
       "      <td>Sweet</td>\n",
       "    </tr>\n",
       "    <tr>\n",
       "      <th>350</th>\n",
       "      <td>16.296296</td>\n",
       "      <td>5.636667</td>\n",
       "      <td>3.037037</td>\n",
       "      <td>4.000000</td>\n",
       "      <td>163.410270</td>\n",
       "      <td>63.513564</td>\n",
       "      <td>1.320223</td>\n",
       "      <td>5.714763</td>\n",
       "      <td>3.386317</td>\n",
       "      <td>7.268604</td>\n",
       "      <td>...</td>\n",
       "      <td>0.520631</td>\n",
       "      <td>0</td>\n",
       "      <td>NaN</td>\n",
       "      <td>11</td>\n",
       "      <td>NaN</td>\n",
       "      <td>0</td>\n",
       "      <td>NaN</td>\n",
       "      <td>14525</td>\n",
       "      <td>BitterDB</td>\n",
       "      <td>Bitter</td>\n",
       "    </tr>\n",
       "    <tr>\n",
       "      <th>2595</th>\n",
       "      <td>16.296296</td>\n",
       "      <td>5.636667</td>\n",
       "      <td>3.037037</td>\n",
       "      <td>4.000000</td>\n",
       "      <td>163.410270</td>\n",
       "      <td>63.513564</td>\n",
       "      <td>1.320223</td>\n",
       "      <td>5.714763</td>\n",
       "      <td>3.386317</td>\n",
       "      <td>7.268604</td>\n",
       "      <td>...</td>\n",
       "      <td>0.520631</td>\n",
       "      <td>0</td>\n",
       "      <td>NaN</td>\n",
       "      <td>11</td>\n",
       "      <td>NaN</td>\n",
       "      <td>0</td>\n",
       "      <td>NaN</td>\n",
       "      <td>(+)-Fenchone</td>\n",
       "      <td>The Good Scents Company Database</td>\n",
       "      <td>Sweet</td>\n",
       "    </tr>\n",
       "    <tr>\n",
       "      <th>784</th>\n",
       "      <td>16.702703</td>\n",
       "      <td>5.735946</td>\n",
       "      <td>2.216216</td>\n",
       "      <td>4.270270</td>\n",
       "      <td>164.524799</td>\n",
       "      <td>65.127648</td>\n",
       "      <td>1.279016</td>\n",
       "      <td>5.802154</td>\n",
       "      <td>3.367117</td>\n",
       "      <td>7.365847</td>\n",
       "      <td>...</td>\n",
       "      <td>0.494023</td>\n",
       "      <td>7</td>\n",
       "      <td>NaN</td>\n",
       "      <td>11</td>\n",
       "      <td>NaN</td>\n",
       "      <td>0</td>\n",
       "      <td>NaN</td>\n",
       "      <td>5355853</td>\n",
       "      <td>BitterDB</td>\n",
       "      <td>Bitter</td>\n",
       "    </tr>\n",
       "    <tr>\n",
       "      <th>1470</th>\n",
       "      <td>16.702703</td>\n",
       "      <td>5.735946</td>\n",
       "      <td>2.216216</td>\n",
       "      <td>4.270270</td>\n",
       "      <td>164.524799</td>\n",
       "      <td>65.127648</td>\n",
       "      <td>1.279016</td>\n",
       "      <td>5.802154</td>\n",
       "      <td>3.367117</td>\n",
       "      <td>7.365847</td>\n",
       "      <td>...</td>\n",
       "      <td>0.494023</td>\n",
       "      <td>7</td>\n",
       "      <td>NaN</td>\n",
       "      <td>11</td>\n",
       "      <td>NaN</td>\n",
       "      <td>0</td>\n",
       "      <td>NaN</td>\n",
       "      <td>Neryl propionate</td>\n",
       "      <td>Fenaroli Handbook of Flavor Ingredient</td>\n",
       "      <td>Sweet</td>\n",
       "    </tr>\n",
       "  </tbody>\n",
       "</table>\n",
       "<p>6 rows × 2007 columns</p>\n",
       "</div>"
      ],
      "text/plain": [
       "         AATS0Z  AATS0are    AATS0d   AATS0dv      AATS0i     AATS0m  \\\n",
       "661   15.241379  5.581724  2.068966  3.103448  164.893537  59.203392   \n",
       "1372  15.241379  5.581724  2.068966  3.103448  164.893537  59.203392   \n",
       "350   16.296296  5.636667  3.037037  4.000000  163.410270  63.513564   \n",
       "2595  16.296296  5.636667  3.037037  4.000000  163.410270  63.513564   \n",
       "784   16.702703  5.735946  2.216216  4.270270  164.524799  65.127648   \n",
       "1470  16.702703  5.735946  2.216216  4.270270  164.524799  65.127648   \n",
       "\n",
       "        AATS0p   AATS0pe    AATS0s   AATS0se  ...       qed  rotors   s  \\\n",
       "661   1.259836  5.654434  2.976054  7.230663  ...  0.617131       4 NaN   \n",
       "1372  1.259836  5.654434  2.976054  7.230663  ...  0.617131       4 NaN   \n",
       "350   1.320223  5.714763  3.386317  7.268604  ...  0.520631       0 NaN   \n",
       "2595  1.320223  5.714763  3.386317  7.268604  ...  0.520631       0 NaN   \n",
       "784   1.279016  5.802154  3.367117  7.365847  ...  0.494023       7 NaN   \n",
       "1470  1.279016  5.802154  3.367117  7.365847  ...  0.494023       7 NaN   \n",
       "\n",
       "      sbonds  smarts  tbonds  title              Name  \\\n",
       "661        8     NaN       0    NaN            643820   \n",
       "1372       8     NaN       0    NaN          GERANIOL   \n",
       "350       11     NaN       0    NaN             14525   \n",
       "2595      11     NaN       0    NaN      (+)-Fenchone   \n",
       "784       11     NaN       0    NaN           5355853   \n",
       "1470      11     NaN       0    NaN  Neryl propionate   \n",
       "\n",
       "                                   Reference   Taste  \n",
       "661                                 BitterDB  Bitter  \n",
       "1372  Fenaroli Handbook of Flavor Ingredient   Sweet  \n",
       "350                                 BitterDB  Bitter  \n",
       "2595        The Good Scents Company Database   Sweet  \n",
       "784                                 BitterDB  Bitter  \n",
       "1470  Fenaroli Handbook of Flavor Ingredient   Sweet  \n",
       "\n",
       "[6 rows x 2007 columns]"
      ]
     },
     "execution_count": 14,
     "metadata": {},
     "output_type": "execute_result"
    }
   ],
   "source": [
    "df_tmp = pd.merge(df_tmp1, df_tmp2[['Name','Reference']+[target]], left_index=True, right_index=True)\n",
    "df_tmp.head(6)"
   ]
  },
  {
   "cell_type": "code",
   "execution_count": 15,
   "id": "79617775-f747-4445-8808-8177fba89ba3",
   "metadata": {},
   "outputs": [],
   "source": [
    "to_drop = df_tmp1.index\n",
    "df.drop(index=to_drop, inplace=True)\n",
    "rows = list(set(rows) - set(to_drop))"
   ]
  },
  {
   "cell_type": "code",
   "execution_count": 16,
   "id": "8d375edf-54b6-4793-988c-2b4ed7fb3c6e",
   "metadata": {},
   "outputs": [
    {
     "name": "stdout",
     "output_type": "stream",
     "text": [
      "Metadata columns number: 7\n",
      "Features columns number: 2004\n",
      "DataFrame dimensions: (2195, 2005)\n"
     ]
    }
   ],
   "source": [
    "print(f'Metadata columns number: {len(metadata)}')\n",
    "print(f'Features columns number: {len(features)}')\n",
    "print(f'DataFrame dimensions: {df.loc[rows, features+[target]].shape}')"
   ]
  },
  {
   "cell_type": "markdown",
   "id": "87467362-4a6c-4b99-a9f9-e8dbe752b7af",
   "metadata": {},
   "source": [
    "Now I expect an improvement in performance having removed lines with the same features but different target."
   ]
  },
  {
   "cell_type": "code",
   "execution_count": 17,
   "id": "03cc2cbf-7a4e-4597-ad68-8d62e6a9bf99",
   "metadata": {},
   "outputs": [
    {
     "name": "stdout",
     "output_type": "stream",
     "text": [
      "Training until validation scores don't improve for 20 rounds\n",
      "Fold 1 AUC: 0.94884\n",
      "Fold 2 AUC: 0.95228\n",
      "Fold 3 AUC: 0.94589\n",
      "Fold 4 AUC: 0.94860\n",
      "Fold 5 AUC: 0.94749\n",
      "Folds AUC: 0.94862+-0.00210\n",
      "Total AUC: 0.94813\n"
     ]
    }
   ],
   "source": [
    "train = df.loc[rows,features+[target]].copy()\n",
    "train.reset_index(drop=True, inplace=True)\n",
    "train[target].replace({'Bitter': 0, 'Sweet': 1}, inplace=True)\n",
    "custom_cv = create_folds(train=train, features=features, target=target, num_folds=NUM_FOLDS, shuffle=True, seed=SEED)\n",
    "evaluate(params=PARAMS, train=train, features=features, target=target, folds=custom_cv)"
   ]
  },
  {
   "cell_type": "markdown",
   "id": "8c9784ce-7727-4ccb-a843-e504f8ba7913",
   "metadata": {},
   "source": [
    "### Removing nan columns"
   ]
  },
  {
   "cell_type": "code",
   "execution_count": 18,
   "id": "fc53afcd-121a-4722-b699-b965336faddb",
   "metadata": {},
   "outputs": [],
   "source": [
    "df_tmp = df.loc[rows,features].copy()"
   ]
  },
  {
   "cell_type": "code",
   "execution_count": 19,
   "id": "9777f681-e64e-49ef-ba75-d13727a55526",
   "metadata": {},
   "outputs": [],
   "source": [
    "tmp = df_tmp.isnull().mean()\n",
    "to_drop = tmp[tmp==1].index.to_list()"
   ]
  },
  {
   "cell_type": "code",
   "execution_count": 20,
   "id": "2bdf05b0-d5b5-4673-999a-47a7801133c4",
   "metadata": {},
   "outputs": [
    {
     "name": "stdout",
     "output_type": "stream",
     "text": [
      "Metadata columns number: 7\n",
      "Features columns number: 1690\n",
      "DataFrame dimensions: (2195, 1691)\n"
     ]
    }
   ],
   "source": [
    "features = sorted(list(set(features) - set(to_drop)))\n",
    "print(f'Metadata columns number: {len(metadata)}')\n",
    "print(f'Features columns number: {len(features)}')\n",
    "print(f'DataFrame dimensions: {df.loc[rows, features+[target]].shape}')"
   ]
  },
  {
   "cell_type": "markdown",
   "id": "1575a780-2cf0-49c1-aa34-9456c1e22f9b",
   "metadata": {},
   "source": [
    "The result shouldn't change having only removed not useful columns."
   ]
  },
  {
   "cell_type": "code",
   "execution_count": 21,
   "id": "e5e2f121-9a93-467d-b8d3-8808331a431a",
   "metadata": {},
   "outputs": [
    {
     "name": "stdout",
     "output_type": "stream",
     "text": [
      "Training until validation scores don't improve for 20 rounds\n",
      "Fold 1 AUC: 0.94884\n",
      "Fold 2 AUC: 0.95228\n",
      "Fold 3 AUC: 0.94589\n",
      "Fold 4 AUC: 0.94860\n",
      "Fold 5 AUC: 0.94749\n",
      "Folds AUC: 0.94862+-0.00210\n",
      "Total AUC: 0.94813\n"
     ]
    }
   ],
   "source": [
    "train = df.loc[rows,features+[target]].copy()\n",
    "train.reset_index(drop=True, inplace=True)\n",
    "train[target].replace({'Bitter': 0, 'Sweet': 1}, inplace=True)\n",
    "custom_cv = create_folds(train=train, features=features, target=target, num_folds=NUM_FOLDS, shuffle=True, seed=SEED)\n",
    "evaluate(params=PARAMS, train=train, features=features, target=target, folds=custom_cv)"
   ]
  },
  {
   "cell_type": "markdown",
   "id": "00243923-8a98-4af6-8955-bd534d17b045",
   "metadata": {},
   "source": [
    "### Removing columns with no variance (constant features)"
   ]
  },
  {
   "cell_type": "code",
   "execution_count": 22,
   "id": "05fd52b0-c3e9-447f-bc5b-3cb1f4cbfe6e",
   "metadata": {},
   "outputs": [],
   "source": [
    "df_tmp = df.loc[rows, features].copy()\n",
    "tmp = df_tmp.var()\n",
    "to_drop = tmp[tmp == 0].index.to_list()"
   ]
  },
  {
   "cell_type": "code",
   "execution_count": 23,
   "id": "86d06239-e420-45ad-acdd-da5f8c8a6845",
   "metadata": {},
   "outputs": [
    {
     "name": "stdout",
     "output_type": "stream",
     "text": [
      "Metadata columns number: 7\n",
      "Features columns number: 1555\n",
      "DataFrame dimensions: (2195, 1556)\n"
     ]
    }
   ],
   "source": [
    "features = sorted(list(set(features) - set(to_drop)))\n",
    "print(f'Metadata columns number: {len(metadata)}')\n",
    "print(f'Features columns number: {len(features)}')\n",
    "print(f'DataFrame dimensions: {df.loc[rows, features+[target]].shape}')"
   ]
  },
  {
   "cell_type": "markdown",
   "id": "96ed3805-b9fe-48e8-82d1-7946fbb2fc56",
   "metadata": {},
   "source": [
    "The result shouldn't change having only removed not useful columns."
   ]
  },
  {
   "cell_type": "code",
   "execution_count": 24,
   "id": "89074a8a-57d8-4bdd-b1ce-cd0cb270554c",
   "metadata": {},
   "outputs": [
    {
     "name": "stdout",
     "output_type": "stream",
     "text": [
      "Training until validation scores don't improve for 20 rounds\n",
      "Fold 1 AUC: 0.94884\n",
      "Fold 2 AUC: 0.95228\n",
      "Fold 3 AUC: 0.94589\n",
      "Fold 4 AUC: 0.94860\n",
      "Fold 5 AUC: 0.94749\n",
      "Folds AUC: 0.94862+-0.00210\n",
      "Total AUC: 0.94813\n"
     ]
    }
   ],
   "source": [
    "train = df.loc[rows,features+[target]].copy()\n",
    "train.reset_index(drop=True, inplace=True)\n",
    "train[target].replace({'Bitter': 0, 'Sweet': 1}, inplace=True)\n",
    "custom_cv = create_folds(train=train, features=features, target=target, num_folds=NUM_FOLDS, shuffle=True, seed=SEED)\n",
    "evaluate(params=PARAMS, train=train, features=features, target=target, folds=custom_cv)"
   ]
  },
  {
   "cell_type": "markdown",
   "id": "1cc041e8-b447-49b1-b4e1-fe3accb76157",
   "metadata": {},
   "source": [
    "### Removing columns with very low variance (quasi-constant features)"
   ]
  },
  {
   "cell_type": "code",
   "execution_count": 25,
   "id": "78d0d732-08b8-4898-a196-dcf18d69bfd8",
   "metadata": {},
   "outputs": [],
   "source": [
    "df_tmp = df.loc[rows, features].copy()\n",
    "\n",
    "th = 0.99\n",
    "to_drop = []\n",
    "\n",
    "for col in features:\n",
    "    top_value = (df[col].value_counts(dropna=False)/len(df)).sort_values(ascending=False).iloc[0]\n",
    "    if top_value > th:\n",
    "        to_drop.append(col)"
   ]
  },
  {
   "cell_type": "code",
   "execution_count": 26,
   "id": "a3893eca-a3f7-485d-8fa1-fcd08d703f99",
   "metadata": {},
   "outputs": [
    {
     "name": "stdout",
     "output_type": "stream",
     "text": [
      "Metadata columns number: 7\n",
      "Features columns number: 1432\n",
      "DataFrame dimensions: (2195, 1433)\n"
     ]
    }
   ],
   "source": [
    "features = sorted(list(set(features) - set(to_drop)))\n",
    "print(f'Metadata columns number: {len(metadata)}')\n",
    "print(f'Features columns number: {len(features)}')\n",
    "print(f'DataFrame dimensions: {df.loc[rows, features+[target]].shape}')"
   ]
  },
  {
   "cell_type": "markdown",
   "id": "e48991b4-287c-4642-a487-a566cf0ca6cd",
   "metadata": {},
   "source": [
    "The result shouldn't change having only removed not useful columns."
   ]
  },
  {
   "cell_type": "code",
   "execution_count": 27,
   "id": "f7c0e9c4-f27e-4ceb-925a-3b45144b7bd2",
   "metadata": {},
   "outputs": [
    {
     "name": "stdout",
     "output_type": "stream",
     "text": [
      "Training until validation scores don't improve for 20 rounds\n",
      "Fold 1 AUC: 0.94884\n",
      "Fold 2 AUC: 0.95228\n",
      "Fold 3 AUC: 0.94589\n",
      "Fold 4 AUC: 0.94860\n",
      "Fold 5 AUC: 0.94749\n",
      "Folds AUC: 0.94862+-0.00210\n",
      "Total AUC: 0.94813\n"
     ]
    }
   ],
   "source": [
    "train = df.loc[rows,features+[target]].copy()\n",
    "train.reset_index(drop=True, inplace=True)\n",
    "train[target].replace({'Bitter': 0, 'Sweet': 1}, inplace=True)\n",
    "custom_cv = create_folds(train=train, features=features, target=target, num_folds=NUM_FOLDS, shuffle=True, seed=SEED)\n",
    "evaluate(params=PARAMS, train=train, features=features, target=target, folds=custom_cv)"
   ]
  },
  {
   "cell_type": "markdown",
   "id": "7866880b-064b-4919-ab51-1bc2cf7d8801",
   "metadata": {},
   "source": [
    "### Collapsing duplicate columns"
   ]
  },
  {
   "cell_type": "code",
   "execution_count": 28,
   "id": "dc7eae27-b64d-4daa-8727-d83c5a4efa9e",
   "metadata": {},
   "outputs": [],
   "source": [
    "df_tmp = df.loc[rows, features].T.copy()"
   ]
  },
  {
   "cell_type": "code",
   "execution_count": 29,
   "id": "b071be6a-1648-4bdf-a099-78728d0f8aea",
   "metadata": {},
   "outputs": [
    {
     "name": "stdout",
     "output_type": "stream",
     "text": [
      "Duplicated columns:\n",
      " [('NssssN', 'fr_quatN'), ('n11FARing', 'n11FRing'), ('NsF', 'nF'), ('n9FaHRing', 'n9FaRing'), ('nBondsT', 'tbonds'), ('fr_halogen', 'nX'), ('NddsN', 'fr_nitro'), ('NaaNH', 'fr_Ar_NH', 'fr_Nhpyrrole'), ('n5aHRing', 'n5aRing'), ('NsNH2', 'fr_NH2'), ('fr_epoxide', 'n3AHRing', 'n3HRing'), ('n3ARing', 'n3Ring'), ('NumHDonors', 'nHBDon'), ('NumRotatableBonds', 'nRot'), ('abonds', 'nAromBond', 'nBondsA'), ('FCSP3', 'FractionCSP3'), ('MolLogP', 'SLogP'), ('RingCount', 'nRing'), ('NumHAcceptors', 'nHBAcc'), ('NumHeteroatoms', 'nHetero'), ('dbonds', 'nBondsD'), ('Chi1', 'Xp-1d'), ('MaxAbsEStateIndex', 'MaxEStateIndex'), ('HeavyAtomCount', 'nHeavyAtom'), ('MWC01', 'nBondsO'), ('SpAD_A', 'SpAbs_A'), ('TPSA.1', 'TopoPSA(NO)'), ('MolMR', 'SMR'), ('SpAD_D', 'SpAbs_D'), ('ExactMolWt', 'MW'), ('MAXdS', 'MINdS')]\n"
     ]
    }
   ],
   "source": [
    "tmp = df_tmp[df_tmp.duplicated(keep=False)]\n",
    "\n",
    "dup_columns = tmp.groupby(list(tmp), dropna=False).apply(lambda x: tuple(x.index)).to_list()\n",
    "print('Duplicated columns:\\n', dup_columns)"
   ]
  },
  {
   "cell_type": "code",
   "execution_count": 30,
   "id": "7df8f94e-a533-4cae-9e7c-59d9da4fc2ce",
   "metadata": {},
   "outputs": [],
   "source": [
    "combine_columns = False\n",
    "\n",
    "for cols in dup_columns:\n",
    "    cols = list(cols)\n",
    "    assert(df.loc[rows, cols].var(axis=1).sum() == 0)\n",
    "    \n",
    "    if combine_columns:\n",
    "        new_col_name = '_'.join(cols)\n",
    "        df[new_col_name] = df[cols[0]].values\n",
    "        #df.drop(columns=cols, inplace=True)\n",
    "        features = list(set(features) - set(cols))\n",
    "        features.append(new_col_name)\n",
    "    else:\n",
    "        features = sorted(list(set(features) - set(cols[1:])))"
   ]
  },
  {
   "cell_type": "code",
   "execution_count": 31,
   "id": "9778984c-5faa-4423-a1f6-8819becd2dd9",
   "metadata": {},
   "outputs": [
    {
     "name": "stdout",
     "output_type": "stream",
     "text": [
      "Metadata columns number: 7\n",
      "Features columns number: 1398\n",
      "DataFrame dimensions: (2195, 1399)\n"
     ]
    }
   ],
   "source": [
    "print(f'Metadata columns number: {len(metadata)}')\n",
    "print(f'Features columns number: {len(features)}')\n",
    "print(f'DataFrame dimensions: {df.loc[rows, features+[target]].shape}')"
   ]
  },
  {
   "cell_type": "markdown",
   "id": "672839fb-3e3b-4615-8d3c-df44195e39c1",
   "metadata": {},
   "source": [
    "The result shouldn't change having only removed redundant columns."
   ]
  },
  {
   "cell_type": "code",
   "execution_count": 32,
   "id": "9aa49538-2ed2-4c68-b422-1673d8c78ca9",
   "metadata": {},
   "outputs": [
    {
     "name": "stdout",
     "output_type": "stream",
     "text": [
      "Training until validation scores don't improve for 20 rounds\n",
      "Fold 1 AUC: 0.94884\n",
      "Fold 2 AUC: 0.95228\n",
      "Fold 3 AUC: 0.94589\n",
      "Fold 4 AUC: 0.94860\n",
      "Fold 5 AUC: 0.94749\n",
      "Folds AUC: 0.94862+-0.00210\n",
      "Total AUC: 0.94813\n"
     ]
    }
   ],
   "source": [
    "train = df.loc[rows,features+[target]].copy()\n",
    "train.reset_index(drop=True, inplace=True)\n",
    "train[target].replace({'Bitter': 0, 'Sweet': 1}, inplace=True)\n",
    "custom_cv = create_folds(train=train, features=features, target=target, num_folds=NUM_FOLDS, shuffle=True, seed=SEED)\n",
    "evaluate(params=PARAMS, train=train, features=features, target=target, folds=custom_cv)"
   ]
  },
  {
   "cell_type": "markdown",
   "id": "1c2ffbd3-0cc8-4d13-bb1f-84998bf4dab9",
   "metadata": {},
   "source": [
    "## Save cleaned dataset"
   ]
  },
  {
   "cell_type": "code",
   "execution_count": 33,
   "id": "6d1972c6-829f-4dd4-8c32-fb1f338cff0b",
   "metadata": {},
   "outputs": [],
   "source": [
    "d = {'DataFrame': df, 'metadata': metadata, 'features': features, 'target': target}\n",
    "\n",
    "with open('../data/comb.pickle', 'wb') as handle:\n",
    "    pickle.dump(d, handle, protocol=pickle.HIGHEST_PROTOCOL)"
   ]
  },
  {
   "cell_type": "code",
   "execution_count": null,
   "id": "62615357-d16b-43f0-9b44-31a76e72a713",
   "metadata": {},
   "outputs": [],
   "source": []
  }
 ],
 "metadata": {
  "kernelspec": {
   "display_name": "Python 3 (ipykernel)",
   "language": "python",
   "name": "python3"
  },
  "language_info": {
   "codemirror_mode": {
    "name": "ipython",
    "version": 3
   },
   "file_extension": ".py",
   "mimetype": "text/x-python",
   "name": "python",
   "nbconvert_exporter": "python",
   "pygments_lexer": "ipython3",
   "version": "3.9.7"
  }
 },
 "nbformat": 4,
 "nbformat_minor": 5
}
